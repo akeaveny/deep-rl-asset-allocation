{
 "cells": [
  {
   "cell_type": "markdown",
   "source": [
    "# Notebook to explore data pre-processing for 30 stocks from the DOW Jones."
   ],
   "metadata": {}
  },
  {
   "cell_type": "code",
   "execution_count": null,
   "source": [
    "import datetime\n",
    "\n",
    "from deep_rl_asset_allocation.configs import paths_config\n",
    "from deep_rl_asset_allocation.preprocessing import data_preprocessing"
   ],
   "outputs": [],
   "metadata": {}
  },
  {
   "cell_type": "markdown",
   "source": [
    "### Pre-Processing: Individual Functions"
   ],
   "metadata": {}
  },
  {
   "cell_type": "code",
   "execution_count": null,
   "source": [
    "# Load training data\n",
    "df = data_preprocessing._load_dataset(filename=paths_config.TRAINING_DATA_FILE)\n",
    "df.head()"
   ],
   "outputs": [],
   "metadata": {}
  },
  {
   "cell_type": "code",
   "execution_count": null,
   "source": [
    "# get data after 01/01/2009\n",
    "df = data_preprocessing._get_datetime_for_df(df)\n",
    "df = df[df.date >= datetime.date(2009, 1, 1)]\n",
    "df"
   ],
   "outputs": [],
   "metadata": {}
  },
  {
   "cell_type": "code",
   "execution_count": null,
   "source": [
    "# Adjusting the Daily Securities Prices for Stock Splits\n",
    "# ajexdi (adjustment factor)\n",
    "df[\"ajexdi\"].describe().to_frame()"
   ],
   "outputs": [],
   "metadata": {}
  },
  {
   "cell_type": "code",
   "execution_count": null,
   "source": [
    "# calculate adjusted price\n",
    "df = data_preprocessing._calculate_price(df)\n",
    "df"
   ],
   "outputs": [],
   "metadata": {}
  },
  {
   "cell_type": "code",
   "execution_count": null,
   "source": [
    "# feature engineering\n",
    "df = data_preprocessing._add_technical_indicator(df)\n",
    "df"
   ],
   "outputs": [],
   "metadata": {}
  },
  {
   "cell_type": "code",
   "execution_count": null,
   "source": [
    "df = data_preprocessing._add_turbulence(df)\n",
    "df"
   ],
   "outputs": [],
   "metadata": {}
  },
  {
   "cell_type": "markdown",
   "source": [
    "### Pre-Processing: Entire Pipeline"
   ],
   "metadata": {}
  },
  {
   "cell_type": "code",
   "execution_count": null,
   "source": [
    "df = data_preprocessing.preprocess_djia_data(df)\n",
    "df"
   ],
   "outputs": [],
   "metadata": {}
  }
 ],
 "metadata": {
  "orig_nbformat": 4,
  "language_info": {
   "name": "python",
   "version": "3.8.12",
   "mimetype": "text/x-python",
   "codemirror_mode": {
    "name": "ipython",
    "version": 3
   },
   "pygments_lexer": "ipython3",
   "nbconvert_exporter": "python",
   "file_extension": ".py"
  },
  "kernelspec": {
   "name": "python3",
   "display_name": "Python 3.8.12 64-bit"
  },
  "interpreter": {
   "hash": "f2968bb35480f2d9f6071d86707a19f812b58e537f2858c0a44d94cb3c56cfe8"
  }
 },
 "nbformat": 4,
 "nbformat_minor": 2
}