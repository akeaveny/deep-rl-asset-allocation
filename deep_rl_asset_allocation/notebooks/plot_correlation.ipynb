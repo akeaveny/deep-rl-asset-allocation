{
 "cells": [
  {
   "cell_type": "markdown",
   "metadata": {},
   "source": [
    "# Notebook to look at correlation among DJIA Stocks"
   ]
  },
  {
   "cell_type": "code",
   "execution_count": 119,
   "metadata": {},
   "outputs": [],
   "source": [
    "import glob\n",
    "import os\n",
    "\n",
    "import matplotlib.dates as mdates\n",
    "import numpy as np\n",
    "import pandas as pd\n",
    "import seaborn as sns\n",
    "from matplotlib import pyplot as plt\n",
    "from matplotlib.dates import DateFormatter\n",
    "\n",
    "from deep_rl_asset_allocation.configs import data_config, paths_config"
   ]
  },
  {
   "cell_type": "markdown",
   "metadata": {},
   "source": [
    "### Load Data from Tickers"
   ]
  },
  {
   "cell_type": "code",
   "execution_count": 120,
   "metadata": {},
   "outputs": [],
   "source": [
    "CSV_FILENAMES = sorted(glob.glob(os.path.join(paths_config.data_csv_dir, f\"daily/*.csv\")))"
   ]
  },
  {
   "cell_type": "code",
   "execution_count": 121,
   "metadata": {},
   "outputs": [],
   "source": [
    "# get ticker names\n",
    "columns = []\n",
    "columns.append(\"Date\")\n",
    "for filename in CSV_FILENAMES:\n",
    "    # print(f'{filename}')\n",
    "    # get ticker name\n",
    "    ticker = filename.split('/')[-1].split(\".\")[0]\n",
    "    if ticker != \"^DJI\":\n",
    "        columns.append(ticker)\n",
    "        # print(f'{ticker}')\n",
    "# init empty df\n",
    "df = pd.DataFrame(columns=columns)"
   ]
  },
  {
   "cell_type": "code",
   "execution_count": 122,
   "metadata": {},
   "outputs": [],
   "source": [
    "# get adj close price for each ticker\n",
    "for filename in CSV_FILENAMES:\n",
    "    # print(f'{filename}')\n",
    "    # get ticker name\n",
    "    ticker = filename.split('/')[-1].split(\".\")[0]\n",
    "    if ticker != \"^DJI\" and ticker in columns:\n",
    "        # get adj close price\n",
    "        _temp_df = pd.read_csv(filename)\n",
    "        dates = _temp_df[\"Date\"].values\n",
    "        adj_close = _temp_df[\"close\"].values\n",
    "        df[\"Date\"] = dates\n",
    "        df[ticker] = adj_close"
   ]
  },
  {
   "cell_type": "code",
   "execution_count": null,
   "metadata": {},
   "outputs": [],
   "source": [
    "df.head()"
   ]
  },
  {
   "cell_type": "markdown",
   "metadata": {},
   "source": [
    "### Plot Historical Prices"
   ]
  },
  {
   "cell_type": "code",
   "execution_count": null,
   "metadata": {},
   "outputs": [],
   "source": [
    "# init the plot\n",
    "fig, ax = plt.subplots(figsize=(20, 10))\n",
    "plt.style.use(\"fivethirtyeight\")\n",
    "\n",
    "ax.set(xlabel=\"Trading Dates\",\n",
    "       ylabel=\"Cumulative Return [%]\",\n",
    "       title=\"Adjusted Close Price\",\n",
    "       )\n",
    "\n",
    "ax.xaxis.set_major_locator(mdates.MonthLocator(interval=12))\n",
    "\n",
    "# init plot\n",
    "dates = pd.date_range(data_config.TRAINING_START,data_config.TESTING_END,freq='d').strftime('%Y-%m-%d')\n",
    "values = np.zeros(len(dates))\n",
    "ax.plot(dates, values, alpha=0.01)\n",
    "\n",
    "# plot data\n",
    "for filename in CSV_FILENAMES:\n",
    "    # print(f'{filename}')\n",
    "    # get ticker name\n",
    "    ticker = filename.split('/')[-1].split(\".\")[0]\n",
    "    if ticker != \"^DJI\":\n",
    "       ax.plot(df[\"Date\"], df[ticker], label=ticker)\n",
    "\n",
    "# plt.legend()"
   ]
  },
  {
   "cell_type": "markdown",
   "metadata": {},
   "source": [
    "### Correlation Plot"
   ]
  },
  {
   "cell_type": "code",
   "execution_count": 136,
   "metadata": {},
   "outputs": [
    {
     "data": {
      "text/html": [
       "<div>\n",
       "<style scoped>\n",
       "    .dataframe tbody tr th:only-of-type {\n",
       "        vertical-align: middle;\n",
       "    }\n",
       "\n",
       "    .dataframe tbody tr th {\n",
       "        vertical-align: top;\n",
       "    }\n",
       "\n",
       "    .dataframe thead th {\n",
       "        text-align: right;\n",
       "    }\n",
       "</style>\n",
       "<table border=\"1\" class=\"dataframe\">\n",
       "  <thead>\n",
       "    <tr style=\"text-align: right;\">\n",
       "      <th></th>\n",
       "      <th>IBM</th>\n",
       "      <th>PG</th>\n",
       "      <th>WMT</th>\n",
       "      <th>XOM</th>\n",
       "      <th>AXP</th>\n",
       "      <th>UNH</th>\n",
       "      <th>CAT</th>\n",
       "      <th>GS</th>\n",
       "      <th>INTC</th>\n",
       "      <th>V</th>\n",
       "    </tr>\n",
       "  </thead>\n",
       "  <tbody>\n",
       "    <tr>\n",
       "      <th>0</th>\n",
       "      <td>53.538605</td>\n",
       "      <td>42.070244</td>\n",
       "      <td>42.273117</td>\n",
       "      <td>49.833126</td>\n",
       "      <td>15.579440</td>\n",
       "      <td>22.993860</td>\n",
       "      <td>32.318981</td>\n",
       "      <td>71.168526</td>\n",
       "      <td>10.185223</td>\n",
       "      <td>12.174688</td>\n",
       "    </tr>\n",
       "    <tr>\n",
       "      <th>1</th>\n",
       "      <td>53.201550</td>\n",
       "      <td>41.768787</td>\n",
       "      <td>41.785172</td>\n",
       "      <td>49.827011</td>\n",
       "      <td>16.079140</td>\n",
       "      <td>22.618822</td>\n",
       "      <td>31.747162</td>\n",
       "      <td>72.825516</td>\n",
       "      <td>9.990900</td>\n",
       "      <td>12.261261</td>\n",
       "    </tr>\n",
       "    <tr>\n",
       "      <th>2</th>\n",
       "      <td>54.678360</td>\n",
       "      <td>41.648201</td>\n",
       "      <td>41.415531</td>\n",
       "      <td>49.015194</td>\n",
       "      <td>16.981846</td>\n",
       "      <td>22.085443</td>\n",
       "      <td>31.554247</td>\n",
       "      <td>72.768112</td>\n",
       "      <td>10.299136</td>\n",
       "      <td>13.124698</td>\n",
       "    </tr>\n",
       "    <tr>\n",
       "      <th>3</th>\n",
       "      <td>53.795959</td>\n",
       "      <td>40.917995</td>\n",
       "      <td>41.060665</td>\n",
       "      <td>47.763866</td>\n",
       "      <td>16.266468</td>\n",
       "      <td>21.918760</td>\n",
       "      <td>30.086758</td>\n",
       "      <td>69.314667</td>\n",
       "      <td>9.675963</td>\n",
       "      <td>12.839920</td>\n",
       "    </tr>\n",
       "    <tr>\n",
       "      <th>4</th>\n",
       "      <td>53.422150</td>\n",
       "      <td>40.469162</td>\n",
       "      <td>37.985176</td>\n",
       "      <td>48.276592</td>\n",
       "      <td>16.290857</td>\n",
       "      <td>22.260447</td>\n",
       "      <td>30.327902</td>\n",
       "      <td>70.061150</td>\n",
       "      <td>9.749670</td>\n",
       "      <td>12.703229</td>\n",
       "    </tr>\n",
       "    <tr>\n",
       "      <th>...</th>\n",
       "      <td>...</td>\n",
       "      <td>...</td>\n",
       "      <td>...</td>\n",
       "      <td>...</td>\n",
       "      <td>...</td>\n",
       "      <td>...</td>\n",
       "      <td>...</td>\n",
       "      <td>...</td>\n",
       "      <td>...</td>\n",
       "      <td>...</td>\n",
       "    </tr>\n",
       "    <tr>\n",
       "      <th>2851</th>\n",
       "      <td>104.862190</td>\n",
       "      <td>112.009163</td>\n",
       "      <td>119.535782</td>\n",
       "      <td>37.757023</td>\n",
       "      <td>86.329765</td>\n",
       "      <td>277.218201</td>\n",
       "      <td>106.631844</td>\n",
       "      <td>169.988586</td>\n",
       "      <td>54.514328</td>\n",
       "      <td>173.399658</td>\n",
       "    </tr>\n",
       "    <tr>\n",
       "      <th>2852</th>\n",
       "      <td>104.698723</td>\n",
       "      <td>111.002411</td>\n",
       "      <td>120.294312</td>\n",
       "      <td>39.279907</td>\n",
       "      <td>84.433479</td>\n",
       "      <td>280.170563</td>\n",
       "      <td>103.592903</td>\n",
       "      <td>168.961533</td>\n",
       "      <td>55.007584</td>\n",
       "      <td>173.972473</td>\n",
       "    </tr>\n",
       "    <tr>\n",
       "      <th>2853</th>\n",
       "      <td>105.473122</td>\n",
       "      <td>111.232521</td>\n",
       "      <td>121.295959</td>\n",
       "      <td>39.236149</td>\n",
       "      <td>84.785378</td>\n",
       "      <td>285.529572</td>\n",
       "      <td>104.737320</td>\n",
       "      <td>171.140381</td>\n",
       "      <td>55.728489</td>\n",
       "      <td>176.234177</td>\n",
       "    </tr>\n",
       "    <tr>\n",
       "      <th>2854</th>\n",
       "      <td>105.980774</td>\n",
       "      <td>108.442368</td>\n",
       "      <td>119.905319</td>\n",
       "      <td>38.500961</td>\n",
       "      <td>82.107132</td>\n",
       "      <td>281.368927</td>\n",
       "      <td>103.544823</td>\n",
       "      <td>169.815781</td>\n",
       "      <td>56.453476</td>\n",
       "      <td>176.569977</td>\n",
       "    </tr>\n",
       "    <tr>\n",
       "      <th>2855</th>\n",
       "      <td>105.775711</td>\n",
       "      <td>107.550667</td>\n",
       "      <td>119.055557</td>\n",
       "      <td>38.719769</td>\n",
       "      <td>84.775612</td>\n",
       "      <td>277.695648</td>\n",
       "      <td>103.179382</td>\n",
       "      <td>174.998947</td>\n",
       "      <td>56.443935</td>\n",
       "      <td>180.461273</td>\n",
       "    </tr>\n",
       "  </tbody>\n",
       "</table>\n",
       "<p>2856 rows × 10 columns</p>\n",
       "</div>"
      ],
      "text/plain": [
       "             IBM          PG         WMT        XOM        AXP         UNH  \\\n",
       "0      53.538605   42.070244   42.273117  49.833126  15.579440   22.993860   \n",
       "1      53.201550   41.768787   41.785172  49.827011  16.079140   22.618822   \n",
       "2      54.678360   41.648201   41.415531  49.015194  16.981846   22.085443   \n",
       "3      53.795959   40.917995   41.060665  47.763866  16.266468   21.918760   \n",
       "4      53.422150   40.469162   37.985176  48.276592  16.290857   22.260447   \n",
       "...          ...         ...         ...        ...        ...         ...   \n",
       "2851  104.862190  112.009163  119.535782  37.757023  86.329765  277.218201   \n",
       "2852  104.698723  111.002411  120.294312  39.279907  84.433479  280.170563   \n",
       "2853  105.473122  111.232521  121.295959  39.236149  84.785378  285.529572   \n",
       "2854  105.980774  108.442368  119.905319  38.500961  82.107132  281.368927   \n",
       "2855  105.775711  107.550667  119.055557  38.719769  84.775612  277.695648   \n",
       "\n",
       "             CAT          GS       INTC           V  \n",
       "0      32.318981   71.168526  10.185223   12.174688  \n",
       "1      31.747162   72.825516   9.990900   12.261261  \n",
       "2      31.554247   72.768112  10.299136   13.124698  \n",
       "3      30.086758   69.314667   9.675963   12.839920  \n",
       "4      30.327902   70.061150   9.749670   12.703229  \n",
       "...          ...         ...        ...         ...  \n",
       "2851  106.631844  169.988586  54.514328  173.399658  \n",
       "2852  103.592903  168.961533  55.007584  173.972473  \n",
       "2853  104.737320  171.140381  55.728489  176.234177  \n",
       "2854  103.544823  169.815781  56.453476  176.569977  \n",
       "2855  103.179382  174.998947  56.443935  180.461273  \n",
       "\n",
       "[2856 rows x 10 columns]"
      ]
     },
     "execution_count": 136,
     "metadata": {},
     "output_type": "execute_result"
    }
   ],
   "source": [
    "df.sample(n=10, axis=1)"
   ]
  },
  {
   "cell_type": "code",
   "execution_count": 141,
   "metadata": {},
   "outputs": [
    {
     "data": {
      "text/plain": [
       "<AxesSubplot:>"
      ]
     },
     "execution_count": 141,
     "metadata": {},
     "output_type": "execute_result"
    },
    {
     "data": {
      "image/png": "[encoded data removed]",
      "text/plain": [
       "<Figure size 216x216 with 2 Axes>"
      ]
     },
     "metadata": {},
     "output_type": "display_data"
    }
   ],
   "source": [
    "# sub\n",
    "# Compute the correlation matrix\n",
    "corr = df.corr()\n",
    "corr = df.sample(n=10, axis=1).corr()\n",
    "# Generate a mask for the upper triangle\n",
    "mask = np.triu(np.ones_like(corr, dtype=bool))\n",
    "# Set up the matplotlib figure\n",
    "f, ax = plt.subplots(figsize=(3, 3))\n",
    "# Generate a custom diverging colormap\n",
    "cmap = sns.diverging_palette(230, 20, as_cmap=True)\n",
    "# Draw the heatmap with the mask and correct aspect ratio\n",
    "sns.heatmap(corr, mask=mask, vmin=0, vmax=1, center=0,\n",
    "            square=True, linewidths=.5, cbar_kws={\"shrink\": .5},\n",
    "            # cmap=cmap, \n",
    "            )"
   ]
  }
 ],
 "metadata": {
  "interpreter": {
   "hash": "f2968bb35480f2d9f6071d86707a19f812b58e537f2858c0a44d94cb3c56cfe8"
  },
  "kernelspec": {
   "display_name": "Python 3.8.12 64-bit",
   "name": "python3"
  },
  "language_info": {
   "codemirror_mode": {
    "name": "ipython",
    "version": 3
   },
   "file_extension": ".py",
   "mimetype": "text/x-python",
   "name": "python",
   "nbconvert_exporter": "python",
   "pygments_lexer": "ipython3",
   "version": "3.8.12"
  },
  "orig_nbformat": 4
 },
 "nbformat": 4,
 "nbformat_minor": 2
}
