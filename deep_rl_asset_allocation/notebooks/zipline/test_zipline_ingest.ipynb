{
 "cells": [
  {
   "cell_type": "markdown",
   "source": [
    "# Notebook to save Custom CSVs for Zipline"
   ],
   "metadata": {}
  },
  {
   "cell_type": "code",
   "execution_count": 39,
   "source": [
    "import os\n",
    "import datetime\n",
    "\n",
    "import matplotlib\n",
    "import pandas as pd\n",
    "import pyfolio as pf\n",
    "import yfinance as yf\n",
    "\n",
    "from deep_rl_asset_allocation.configs import data_config, paths_config"
   ],
   "outputs": [],
   "metadata": {}
  },
  {
   "cell_type": "code",
   "execution_count": 40,
   "source": [
    "import warnings\n",
    "warnings.filterwarnings('ignore')"
   ],
   "outputs": [],
   "metadata": {}
  },
  {
   "cell_type": "code",
   "execution_count": 41,
   "source": [
    "# \"Agg\" backend is for writing to file, not for rendering in a window\n",
    "matplotlib.use('Agg')\n",
    "\n",
    "# plotting in notebook\n",
    "%matplotlib inline"
   ],
   "outputs": [],
   "metadata": {}
  },
  {
   "cell_type": "code",
   "execution_count": 42,
   "source": [
    "%load_ext zipline"
   ],
   "outputs": [
    {
     "output_type": "stream",
     "name": "stdout",
     "text": [
      "The zipline extension is already loaded. To reload it, use:\n",
      "  %reload_ext zipline\n"
     ]
    }
   ],
   "metadata": {}
  },
  {
   "cell_type": "markdown",
   "source": [
    "### Import Data as a df or CSV"
   ],
   "metadata": {}
  },
  {
   "cell_type": "code",
   "execution_count": 43,
   "source": [
    "START = data_config.TRAINING_START  # data_config.TESTING_START  \n",
    "END = data_config.TESTING_END"
   ],
   "outputs": [],
   "metadata": {}
  },
  {
   "cell_type": "code",
   "execution_count": 44,
   "source": [
    "# # load DJIA df\n",
    "# DJIA_FILENAME = os.path.join(paths_config.data_csv_dir, \"DJIA.csv\")\n",
    "# djia = pd.read_csv(DJIA_FILENAME)\n",
    "# # djia.head()\n",
    "\n",
    "# def convert_datadate_to_datetime(df):\n",
    "#     datadate1 = str(df['Date'])\n",
    "#     # output is '20090102'\n",
    "#     year, month, day = datadate1[:4], datadate1[5:7], datadate1[8:]\n",
    "#     return datetime.date(year=int(year), month=int(month), day=int(day))\n",
    "\n",
    "# djia[\"date\"] = djia.apply(convert_datadate_to_datetime, axis=1)\n",
    "# djia = djia.drop(columns=['Date'])\n",
    "# djia = djia[[\"date\", \"Open\", \"High\", \"Low\", \"Close\", \"Volume\"]]\n",
    "# djia.columns = map(str.lower, djia.columns)\n",
    "# djia = djia.rename(columns={\"date\": \"Date\"})\n",
    "# djia = djia.dropna()\n",
    "# # djia.head()\n",
    "\n",
    "# djia = djia.loc[(djia['Date'] >= START) & (djia['Date'] < END)]\n",
    "# djia.reset_index(drop=True, inplace=True)\n",
    "# # djia.head()\n",
    "\n",
    "# # save csv\n",
    "# CSV_FILENAME = os.path.join(paths_config.data_csv_dir, \"daily/DJIA.csv\")\n",
    "# djia.to_csv(CSV_FILENAME)\n",
    "# print(f\"Saved to: {CSV_FILENAME}\")"
   ],
   "outputs": [],
   "metadata": {}
  },
  {
   "cell_type": "code",
   "execution_count": 45,
   "source": [
    "TICKERS = [\n",
    "            \"^DJI\",\n",
    "            'AAPL', 'AXP', 'BA', 'CAT', 'CSCO', 'CVX', 'DD', 'DIS', 'GS', 'HD',\n",
    "            'IBM', 'INTC', 'JNJ', 'JPM', 'KO', 'MCD', 'MMM', 'MRK', 'MSFT', 'NKE',\n",
    "            'PFE', 'PG', 'RTX', 'TRV', 'UNH', 'V', 'VZ', 'WBA', 'WMT', 'XOM',\n",
    "            ]\n",
    "\n",
    "for ticker in TICKERS:\n",
    "    yf_ticker = yf.Ticker(ticker)\n",
    "    # print(yf_ticker.info.keys())\n",
    "\n",
    "    df = yf_ticker.history(start=START, end=END)\n",
    "    df = df[[\"Open\", \"High\", \"Low\", \"Close\", \"Volume\"]]\n",
    "    df.columns = map(str.lower, df.columns)\n",
    "    df = df.dropna()\n",
    "    # print(f'{df}')\n",
    "\n",
    "    # save csv\n",
    "    CSV_FILENAME = os.path.join(paths_config.data_csv_dir, f\"daily/{ticker}.csv\")\n",
    "    df.to_csv(CSV_FILENAME)\n",
    "    print(f\"Saved to: {CSV_FILENAME}\")"
   ],
   "outputs": [
    {
     "output_type": "stream",
     "name": "stdout",
     "text": [
      "Saved to: /Users/akeaveny/git/deep-rl-asset-allocation/deep_rl_asset_allocation/data/csv/daily/^DJI.csv\n",
      "Saved to: /Users/akeaveny/git/deep-rl-asset-allocation/deep_rl_asset_allocation/data/csv/daily/AAPL.csv\n",
      "Saved to: /Users/akeaveny/git/deep-rl-asset-allocation/deep_rl_asset_allocation/data/csv/daily/AXP.csv\n",
      "Saved to: /Users/akeaveny/git/deep-rl-asset-allocation/deep_rl_asset_allocation/data/csv/daily/BA.csv\n",
      "Saved to: /Users/akeaveny/git/deep-rl-asset-allocation/deep_rl_asset_allocation/data/csv/daily/CAT.csv\n",
      "Saved to: /Users/akeaveny/git/deep-rl-asset-allocation/deep_rl_asset_allocation/data/csv/daily/CSCO.csv\n",
      "Saved to: /Users/akeaveny/git/deep-rl-asset-allocation/deep_rl_asset_allocation/data/csv/daily/CVX.csv\n",
      "Saved to: /Users/akeaveny/git/deep-rl-asset-allocation/deep_rl_asset_allocation/data/csv/daily/DD.csv\n",
      "Saved to: /Users/akeaveny/git/deep-rl-asset-allocation/deep_rl_asset_allocation/data/csv/daily/DIS.csv\n",
      "Saved to: /Users/akeaveny/git/deep-rl-asset-allocation/deep_rl_asset_allocation/data/csv/daily/GS.csv\n",
      "Saved to: /Users/akeaveny/git/deep-rl-asset-allocation/deep_rl_asset_allocation/data/csv/daily/HD.csv\n",
      "Saved to: /Users/akeaveny/git/deep-rl-asset-allocation/deep_rl_asset_allocation/data/csv/daily/IBM.csv\n",
      "Saved to: /Users/akeaveny/git/deep-rl-asset-allocation/deep_rl_asset_allocation/data/csv/daily/INTC.csv\n",
      "Saved to: /Users/akeaveny/git/deep-rl-asset-allocation/deep_rl_asset_allocation/data/csv/daily/JNJ.csv\n",
      "Saved to: /Users/akeaveny/git/deep-rl-asset-allocation/deep_rl_asset_allocation/data/csv/daily/JPM.csv\n",
      "Saved to: /Users/akeaveny/git/deep-rl-asset-allocation/deep_rl_asset_allocation/data/csv/daily/KO.csv\n",
      "Saved to: /Users/akeaveny/git/deep-rl-asset-allocation/deep_rl_asset_allocation/data/csv/daily/MCD.csv\n",
      "Saved to: /Users/akeaveny/git/deep-rl-asset-allocation/deep_rl_asset_allocation/data/csv/daily/MMM.csv\n",
      "Saved to: /Users/akeaveny/git/deep-rl-asset-allocation/deep_rl_asset_allocation/data/csv/daily/MRK.csv\n",
      "Saved to: /Users/akeaveny/git/deep-rl-asset-allocation/deep_rl_asset_allocation/data/csv/daily/MSFT.csv\n",
      "Saved to: /Users/akeaveny/git/deep-rl-asset-allocation/deep_rl_asset_allocation/data/csv/daily/NKE.csv\n",
      "Saved to: /Users/akeaveny/git/deep-rl-asset-allocation/deep_rl_asset_allocation/data/csv/daily/PFE.csv\n",
      "Saved to: /Users/akeaveny/git/deep-rl-asset-allocation/deep_rl_asset_allocation/data/csv/daily/PG.csv\n",
      "Saved to: /Users/akeaveny/git/deep-rl-asset-allocation/deep_rl_asset_allocation/data/csv/daily/RTX.csv\n",
      "Saved to: /Users/akeaveny/git/deep-rl-asset-allocation/deep_rl_asset_allocation/data/csv/daily/TRV.csv\n",
      "Saved to: /Users/akeaveny/git/deep-rl-asset-allocation/deep_rl_asset_allocation/data/csv/daily/UNH.csv\n",
      "Saved to: /Users/akeaveny/git/deep-rl-asset-allocation/deep_rl_asset_allocation/data/csv/daily/V.csv\n",
      "Saved to: /Users/akeaveny/git/deep-rl-asset-allocation/deep_rl_asset_allocation/data/csv/daily/VZ.csv\n",
      "Saved to: /Users/akeaveny/git/deep-rl-asset-allocation/deep_rl_asset_allocation/data/csv/daily/WBA.csv\n",
      "Saved to: /Users/akeaveny/git/deep-rl-asset-allocation/deep_rl_asset_allocation/data/csv/daily/WMT.csv\n",
      "Saved to: /Users/akeaveny/git/deep-rl-asset-allocation/deep_rl_asset_allocation/data/csv/daily/XOM.csv\n"
     ]
    }
   ],
   "metadata": {}
  },
  {
   "cell_type": "markdown",
   "source": [
    "### Zipline\n",
    "Note: Need to open ~/.zipline/extension.py and edit register()\n",
    "```\n",
    "import pandas as pd\n",
    "from zipline.data.bundles import register\n",
    "from zipline.data.bundles.csvdir import csvdir_equities\n",
    "\n",
    "start_session = pd.Timestamp('2016-1-4', tz='utc')\n",
    "end_session = pd.Timestamp('2020-5-7', tz='utc')\n",
    "\n",
    "register(\n",
    "    'djia-csvdir-bundle',\n",
    "    csvdir_equities(\n",
    "        ['daily'],\n",
    "        '/Users/akeaveny/git/deep-rl-asset-allocation/deep_rl_asset_allocation/data/csv',\n",
    "    ),\n",
    "    calendar_name='NYSE',  # US equities\n",
    "    start_session=start_session,\n",
    "    end_session=end_session)\n",
    "\n",
    "```"
   ],
   "metadata": {}
  },
  {
   "cell_type": "code",
   "execution_count": 46,
   "source": [
    "!zipline clean -b djia-csvdir-bundle --after=2009-01-01\n",
    "!zipline bundles"
   ],
   "outputs": [
    {
     "output_type": "stream",
     "name": "stdout",
     "text": [
      "[2022-03-09 18:14:58.641903] INFO: zipline.data.bundles.core: Cleaning 2022-03-09T18;13;49.227461.\n",
      "csvdir <no ingestions>\n",
      "djia-csvdir-bundle <no ingestions>\n",
      "quandl 2022-02-08 15:05:16.803138\n",
      "quandl 2022-02-08 15:02:12.920795\n",
      "quantopian-quandl <no ingestions>\n"
     ]
    }
   ],
   "metadata": {}
  },
  {
   "cell_type": "code",
   "execution_count": 49,
   "source": [
    "!zipline clean -b djia-csvdir-bundle --after=2009-01-01\n",
    "!zipline ingest -b djia-csvdir-bundle"
   ],
   "outputs": [],
   "metadata": {}
  }
 ],
 "metadata": {
  "interpreter": {
   "hash": "f2968bb35480f2d9f6071d86707a19f812b58e537f2858c0a44d94cb3c56cfe8"
  },
  "kernelspec": {
   "name": "python3",
   "display_name": "Python 3.8.12 64-bit ('deep-rl': conda)"
  },
  "language_info": {
   "codemirror_mode": {
    "name": "ipython",
    "version": 3
   },
   "file_extension": ".py",
   "mimetype": "text/x-python",
   "name": "python",
   "nbconvert_exporter": "python",
   "pygments_lexer": "ipython3",
   "version": "3.8.12"
  },
  "orig_nbformat": 4
 },
 "nbformat": 4,
 "nbformat_minor": 2
}