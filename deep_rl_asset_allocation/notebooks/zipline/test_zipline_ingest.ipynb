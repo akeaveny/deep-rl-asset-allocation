{
 "cells": [
  {
   "cell_type": "markdown",
   "metadata": {},
   "source": [
    "# Notebook to save Custom CSVs for Zipline"
   ]
  },
  {
   "cell_type": "code",
   "execution_count": null,
   "metadata": {},
   "outputs": [],
   "source": [
    "import os\n",
    "import datetime\n",
    "\n",
    "import matplotlib\n",
    "import pandas as pd\n",
    "import pyfolio as pf\n",
    "import yfinance as yf\n",
    "\n",
    "from deep_rl_asset_allocation.configs import data_config, paths_config"
   ]
  },
  {
   "cell_type": "code",
   "execution_count": null,
   "metadata": {},
   "outputs": [],
   "source": [
    "import warnings\n",
    "warnings.filterwarnings('ignore')"
   ]
  },
  {
   "cell_type": "code",
   "execution_count": null,
   "metadata": {},
   "outputs": [],
   "source": [
    "# \"Agg\" backend is for writing to file, not for rendering in a window\n",
    "matplotlib.use('Agg')\n",
    "\n",
    "# plotting in notebook\n",
    "%matplotlib inline"
   ]
  },
  {
   "cell_type": "code",
   "execution_count": null,
   "metadata": {},
   "outputs": [],
   "source": [
    "%load_ext zipline"
   ]
  },
  {
   "cell_type": "markdown",
   "metadata": {},
   "source": [
    "### Import Data as a df or CSV"
   ]
  },
  {
   "cell_type": "code",
   "execution_count": null,
   "metadata": {},
   "outputs": [],
   "source": [
    "START = data_config.TRAINING_START  \n",
    "END = data_config.TESTING_END"
   ]
  },
  {
   "cell_type": "code",
   "execution_count": null,
   "metadata": {},
   "outputs": [],
   "source": [
    "# # load DJIA df\n",
    "# DJIA_FILENAME = os.path.join(paths_config.data_csv_dir, \"DJIA.csv\")\n",
    "# djia = pd.read_csv(DJIA_FILENAME)\n",
    "# # djia.head()\n",
    "\n",
    "# def convert_datadate_to_datetime(df):\n",
    "#     datadate1 = str(df['Date'])\n",
    "#     # output is '20090102'\n",
    "#     year, month, day = datadate1[:4], datadate1[5:7], datadate1[8:]\n",
    "#     return datetime.date(year=int(year), month=int(month), day=int(day))\n",
    "\n",
    "# djia[\"date\"] = djia.apply(convert_datadate_to_datetime, axis=1)\n",
    "# djia = djia.drop(columns=['Date'])\n",
    "# djia = djia[[\"date\", \"Open\", \"High\", \"Low\", \"Close\", \"Volume\"]]\n",
    "# djia.columns = map(str.lower, djia.columns)\n",
    "# djia = djia.rename(columns={\"date\": \"Date\"})\n",
    "# djia = djia.dropna()\n",
    "# # djia.head()\n",
    "\n",
    "# djia = djia.loc[(djia['Date'] >= START) & (djia['Date'] < END)]\n",
    "# djia.reset_index(drop=True, inplace=True)\n",
    "# # djia.head()\n",
    "\n",
    "# # save csv\n",
    "# CSV_FILENAME = os.path.join(paths_config.data_csv_dir, \"daily/DJIA.csv\")\n",
    "# djia.to_csv(CSV_FILENAME)\n",
    "# print(f\"Saved to: {CSV_FILENAME}\")"
   ]
  },
  {
   "cell_type": "code",
   "execution_count": null,
   "metadata": {},
   "outputs": [],
   "source": [
    "TICKERS = [\n",
    "            \"^DJI\",\n",
    "            'AAPL', 'AXP', 'BA', 'CAT', 'CSCO', 'CVX', 'DD', 'DIS', 'GS', 'HD',\n",
    "            'IBM', 'INTC', 'JNJ', 'JPM', 'KO', 'MCD', 'MMM', 'MRK', 'MSFT', 'NKE',\n",
    "            'PFE', 'PG', 'RTX', 'TRV', 'UNH', 'V', 'VZ', 'WBA', 'WMT', 'XOM',\n",
    "            ]\n",
    "\n",
    "for ticker in TICKERS:\n",
    "    yf_ticker = yf.Ticker(ticker)\n",
    "    # print(yf_ticker.info.keys())\n",
    "\n",
    "    df = yf_ticker.history(start=START, end=END)\n",
    "    df = df[[\"Open\", \"High\", \"Low\", \"Close\", \"Volume\"]]\n",
    "    df.columns = map(str.lower, df.columns)\n",
    "    df = df.dropna()\n",
    "    # print(f'{df}')\n",
    "\n",
    "    # save csv\n",
    "    CSV_FILENAME = os.path.join(paths_config.data_csv_dir, f\"daily/{ticker}.csv\")\n",
    "    df.to_csv(CSV_FILENAME)\n",
    "    print(f\"Saved to: {CSV_FILENAME}\")"
   ]
  },
  {
   "cell_type": "markdown",
   "metadata": {},
   "source": [
    "### Zipline\n",
    "Note: Need to open ~/.zipline/extension.py and edit register()\n",
    "```\n",
    "import pandas as pd\n",
    "from zipline.data.bundles import register\n",
    "from zipline.data.bundles.csvdir import csvdir_equities\n",
    "\n",
    "start_session = pd.Timestamp('2016-1-4', tz='utc')\n",
    "end_session = pd.Timestamp('2020-5-7', tz='utc')\n",
    "\n",
    "register(\n",
    "    'djia-csvdir-bundle',\n",
    "    csvdir_equities(\n",
    "        ['daily'],\n",
    "        '/Users/akeaveny/git/deep-rl-asset-allocation/deep_rl_asset_allocation/data/csv',\n",
    "    ),\n",
    "    calendar_name='NYSE',  # US equities\n",
    "    start_session=start_session,\n",
    "    end_session=end_session)\n",
    "\n",
    "```"
   ]
  },
  {
   "cell_type": "code",
   "execution_count": null,
   "metadata": {},
   "outputs": [],
   "source": [
    "!zipline clean -b djia-csvdir-bundle --after=2009-01-01\n",
    "!zipline bundles"
   ]
  },
  {
   "cell_type": "code",
   "execution_count": null,
   "metadata": {},
   "outputs": [],
   "source": [
    "!zipline clean -b djia-csvdir-bundle --after=2009-01-01\n",
    "!zipline ingest -b djia-csvdir-bundle"
   ]
  }
 ],
 "metadata": {
  "interpreter": {
   "hash": "f2968bb35480f2d9f6071d86707a19f812b58e537f2858c0a44d94cb3c56cfe8"
  },
  "kernelspec": {
   "display_name": "Python 3.8.12 64-bit ('deep-rl': conda)",
   "name": "python3"
  },
  "language_info": {
   "codemirror_mode": {
    "name": "ipython",
    "version": 3
   },
   "file_extension": ".py",
   "mimetype": "text/x-python",
   "name": "python",
   "nbconvert_exporter": "python",
   "pygments_lexer": "ipython3",
   "version": "3.8.12"
  },
  "orig_nbformat": 4
 },
 "nbformat": 4,
 "nbformat_minor": 2
}
