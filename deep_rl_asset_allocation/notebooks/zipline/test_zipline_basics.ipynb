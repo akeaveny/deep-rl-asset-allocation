{
 "cells": [
  {
   "cell_type": "markdown",
   "source": [
    "# Notebook to evaluate Benchmark Performance"
   ],
   "metadata": {}
  },
  {
   "cell_type": "code",
   "execution_count": 1,
   "source": [
    "import datetime\n",
    "\n",
    "import matplotlib\n",
    "import matplotlib.pyplot as plt\n",
    "import pandas as pd\n",
    "import pyfolio as pf\n",
    "\n",
    "from deep_rl_asset_allocation.utils import zipline_utils"
   ],
   "outputs": [],
   "metadata": {}
  },
  {
   "cell_type": "code",
   "execution_count": 2,
   "source": [
    "import warnings\n",
    "warnings.filterwarnings('ignore')"
   ],
   "outputs": [],
   "metadata": {}
  },
  {
   "cell_type": "code",
   "execution_count": 3,
   "source": [
    "# \"Agg\" backend is for writing to file, not for rendering in a window\n",
    "matplotlib.use('Agg')\n",
    "\n",
    "# plotting in notebook\n",
    "%matplotlib inline"
   ],
   "outputs": [],
   "metadata": {}
  },
  {
   "cell_type": "code",
   "execution_count": 4,
   "source": [
    "# print options for pandas\n",
    "# pd.set_option('display.max_rows', 500)\n",
    "# pd.set_option('display.max_columns', 500)\n",
    "pd.set_option('display.width', 1000)"
   ],
   "outputs": [],
   "metadata": {}
  },
  {
   "cell_type": "code",
   "execution_count": 5,
   "source": [
    "%load_ext zipline"
   ],
   "outputs": [],
   "metadata": {}
  },
  {
   "cell_type": "markdown",
   "source": [
    "### Zipline: Buy & Hold"
   ],
   "metadata": {}
  },
  {
   "cell_type": "code",
   "execution_count": null,
   "source": [
    "%%zipline --start 2016-1-4 --end 2020-5-7 --capital-base 1000000.0 --bundle djia-csvdir-bundle --no-benchmark -o benchmark_buy_n_hold.pkl \n",
    "\n",
    "# imports\n",
    "from zipline.api import order, symbol, record\n",
    "from zipline.finance import commission\n",
    "\n",
    "selected_stock = 'DJIA'\n",
    "n_stocks_to_buy = 10\n",
    "\n",
    "def initialize(context):\n",
    "    context.has_ordered = False  \n",
    "\n",
    "def handle_data(context, data):\n",
    "    # record price for further inspection\n",
    "    record(price=data.current(symbol(selected_stock), 'price'))\n",
    "    \n",
    "    # trading logic\n",
    "    if not context.has_ordered:\n",
    "        # placing order, negative number for sale/short\n",
    "        order(symbol(selected_stock), n_stocks_to_buy)\n",
    "        # setting up a flag for holding a position\n",
    "        context.has_ordered = True"
   ],
   "outputs": [],
   "metadata": {}
  },
  {
   "cell_type": "code",
   "execution_count": null,
   "source": [
    "# read pkl file\n",
    "benchmark_df = pd.read_pickle('benchmark_buy_n_hold.pkl')\n",
    "# print(f\"{benchmark_df.columns}\")\n",
    "\n",
    "# get transactions\n",
    "transactions_list = []\n",
    "for transactions in benchmark_df.transactions.values:\n",
    "    if transactions != []:\n",
    "        for transaction in transactions:\n",
    "            transactions_list.append(transaction)\n",
    "transactions = pd.DataFrame.from_records(transactions_list)\n",
    "print(transactions)\n",
    "\n",
    "# get teardown\n",
    "returns, positions, transactions = pf.utils.extract_rets_pos_txn_from_zipline(benchmark_df)\n",
    "benchmark_perf = zipline_utils.get_performance_summary(returns)\n",
    "print(f'\\nPerformance:\\n{benchmark_perf}')\n",
    "\n",
    "# plot results\n",
    "zipline_utils.visualize_results(df=benchmark_df, title=\"Benchmark\")"
   ],
   "outputs": [],
   "metadata": {}
  },
  {
   "cell_type": "markdown",
   "source": [
    "### Zipline: 1/n Benchmark"
   ],
   "metadata": {}
  },
  {
   "cell_type": "code",
   "execution_count": null,
   "source": [
    "%%zipline --start 2016-1-4 --end 2020-5-7 --capital-base 1000000.0 --bundle djia-csvdir-bundle --no-benchmark -o benchmark_1_n.pkl \n",
    "\n",
    "from zipline.api import order_percent, symbols\n",
    "from zipline.finance import commission\n",
    "import numpy as np \n",
    "import pandas as pd\n",
    "\n",
    "def initialize(context):\n",
    "    context.set_commission(commission.PerShare(cost=0.0, min_trade_cost=0))\n",
    "    context.assets = symbols(\n",
    "        'AAPL', 'AXP', 'BA', 'CAT', 'CSCO', 'CVX', 'DD', 'DIS', 'GS', 'HD',\n",
    "        'IBM', 'INTC', 'JNJ', 'JPM', 'KO', 'MCD', 'MMM', 'MRK', 'MSFT', 'NKE',\n",
    "        'PFE', 'PG', 'RTX', 'TRV', 'UNH', 'V', 'VZ', 'WBA', 'WMT', 'XOM',\n",
    "    )\n",
    "    context.n_assets = len(context.assets)\n",
    "    context.has_position = False\n",
    "\n",
    "def handle_data(context, data):\n",
    "    if not context.has_position:\n",
    "        for asset in context.assets:\n",
    "            order_percent(asset, 1/context.n_assets)\n",
    "        context.has_position = True"
   ],
   "outputs": [],
   "metadata": {}
  },
  {
   "cell_type": "code",
   "execution_count": null,
   "source": [
    "# read pkl file\n",
    "benchmark_df = pd.read_pickle('benchmark_1_n.pkl')\n",
    "# print(f\"{benchmark_df.columns}\")\n",
    "\n",
    "# get transactions\n",
    "transactions_list = []\n",
    "for transactions in benchmark_df.transactions.values:\n",
    "    if transactions != []:\n",
    "        for transaction in transactions:\n",
    "            transactions_list.append(transaction)\n",
    "transactions = pd.DataFrame.from_records(transactions_list)\n",
    "print(transactions)\n",
    "\n",
    "# get teardown\n",
    "returns, positions, transactions = pf.utils.extract_rets_pos_txn_from_zipline(benchmark_df)\n",
    "benchmark_perf = zipline_utils.get_performance_summary(returns)\n",
    "print(f'\\nPerformance:\\n{benchmark_perf}')\n",
    "\n",
    "# plot results\n",
    "zipline_utils.visualize_results(df=benchmark_df, title=\"Benchmark\")"
   ],
   "outputs": [],
   "metadata": {}
  }
 ],
 "metadata": {
  "orig_nbformat": 4,
  "language_info": {
   "name": "python",
   "version": "3.8.12",
   "mimetype": "text/x-python",
   "codemirror_mode": {
    "name": "ipython",
    "version": 3
   },
   "pygments_lexer": "ipython3",
   "nbconvert_exporter": "python",
   "file_extension": ".py"
  },
  "kernelspec": {
   "name": "python3",
   "display_name": "Python 3.8.12 64-bit ('deep-rl': conda)"
  },
  "interpreter": {
   "hash": "f2968bb35480f2d9f6071d86707a19f812b58e537f2858c0a44d94cb3c56cfe8"
  }
 },
 "nbformat": 4,
 "nbformat_minor": 2
}