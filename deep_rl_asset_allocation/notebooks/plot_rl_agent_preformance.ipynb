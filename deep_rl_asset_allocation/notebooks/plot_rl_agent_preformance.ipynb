{
 "cells": [
  {
   "cell_type": "markdown",
   "metadata": {},
   "source": [
    "# Notebook to evaluate a trained model with pyfolio\n",
    "Note: pyfolio must be install using pip install git+https://github.com/quantopian/pyfolio. There are known bugs with pip install pyfolio."
   ]
  },
  {
   "cell_type": "code",
   "execution_count": null,
   "metadata": {},
   "outputs": [],
   "source": [
    "import os\n",
    "import glob\n",
    "\n",
    "import matplotlib.dates as mdates\n",
    "import numpy as np\n",
    "import pandas as pd\n",
    "from matplotlib import pyplot as plt\n",
    "from matplotlib.dates import DateFormatter\n",
    "\n",
    "from deep_rl_asset_allocation.configs import paths_config, data_config\n",
    "from deep_rl_asset_allocation.utils import data_loader_utils\n",
    "import deep_rl_asset_allocation.preprocessing.data_preprocessing as data_preprocessing"
   ]
  },
  {
   "cell_type": "code",
   "execution_count": null,
   "metadata": {},
   "outputs": [],
   "source": [
    "import warnings\n",
    "warnings.filterwarnings('ignore')"
   ]
  },
  {
   "cell_type": "code",
   "execution_count": null,
   "metadata": {},
   "outputs": [],
   "source": [
    "# plotting in notebook\n",
    "%matplotlib inline"
   ]
  },
  {
   "cell_type": "markdown",
   "metadata": {},
   "source": [
    "### Helper Functions"
   ]
  },
  {
   "cell_type": "code",
   "execution_count": null,
   "metadata": {},
   "outputs": [],
   "source": [
    "def get_daily_return_as_df(df):\n",
    "    df['daily_return'] = df.account_value.pct_change(1)\n",
    "    return df\n",
    "\n",
    "\n",
    "def get_daily_return_as_series(df):\n",
    "    df1 = df.copy()\n",
    "    df1['Date'] = pd.to_datetime(df1['Date'])\n",
    "    df1.set_index('Date', drop=False, inplace=True)\n",
    "    df1.index = df1.index.tz_localize('UTC')\n",
    "    del df1['Date']\n",
    "    ts = pd.Series(df1['daily_return'].values, index=df1.index)\n",
    "    return ts\n",
    "\n",
    "def get_training_results_account_value(df_unique_trade_dates, results_csv_dir=paths_config.results_csv_dir):\n",
    "    df_account_value = pd.DataFrame()\n",
    "    filepath = os.path.join(results_csv_dir, \"test\", f'portfolio_value_*.csv')\n",
    "    num_csv_results_files = len(glob.glob(filepath))\n",
    "    for idx in range(0, num_csv_results_files):\n",
    "        csv_results_file = os.path.join(results_csv_dir, \"test\", f'portfolio_value_{idx}.csv')\n",
    "        print(f\"csv_results_file: {csv_results_file}\")\n",
    "        df = pd.read_csv(csv_results_file)\n",
    "        df_account_value = df_account_value.append(df, ignore_index=True)\n",
    "    # change the column name\n",
    "    df_account_value = pd.DataFrame({'account_value': df_account_value['0']})\n",
    "    # merge with unique trade dates from 2016-01-04 or index 64\n",
    "    df_account_value = df_account_value.join(df_unique_trade_dates.reset_index(drop=True))\n",
    "    df_account_value = df_account_value[['Date', 'account_value']]\n",
    "    return df_account_value"
   ]
  },
  {
   "cell_type": "markdown",
   "metadata": {},
   "source": [
    "### Benchmark: DJIA Index"
   ]
  },
  {
   "cell_type": "code",
   "execution_count": null,
   "metadata": {},
   "outputs": [],
   "source": [
    "# load DJIA - out of sample data (test data)\n",
    "df_djia_out_of_sample = pd.read_csv(paths_config.TESTING_DATA_FILE)\n",
    "df_djia_out_of_sample[\"Date\"] = df_djia_out_of_sample.apply(data_preprocessing.convert_datadate_to_datetime, axis=1)\n",
    "\n",
    "# get data between dates\n",
    "df_djia_out_of_sample = df_djia_out_of_sample[(df_djia_out_of_sample['Date'] >= data_config.TESTING_START) & (df_djia_out_of_sample['Date'] <= data_config.TESTING_END)]\n",
    "df_djia_out_of_sample = df_djia_out_of_sample.reset_index(drop=True)"
   ]
  },
  {
   "cell_type": "code",
   "execution_count": null,
   "metadata": {},
   "outputs": [],
   "source": [
    "# get daily return as relative difference in adjusted close price of DJIA\n",
    "df_djia_out_of_sample['daily_return'] = df_djia_out_of_sample['Adj Close'].pct_change(1)\n",
    "df_djia_out_of_sample = df_djia_out_of_sample.reset_index(drop=True).dropna()\n",
    "# df_djia_out_of_sample"
   ]
  },
  {
   "cell_type": "code",
   "execution_count": null,
   "metadata": {},
   "outputs": [],
   "source": [
    "series_djia_out_of_sample = get_daily_return_as_series(df_djia_out_of_sample)\n",
    "# series_djia_out_of_sample"
   ]
  },
  {
   "cell_type": "markdown",
   "metadata": {},
   "source": [
    "### Benchmark: Min-variance"
   ]
  },
  {
   "cell_type": "code",
   "execution_count": null,
   "metadata": {},
   "outputs": [],
   "source": [
    "# read pkl file\n",
    "df_min_variance = pd.read_pickle('zipline/benchmark_min_var.pkl').reset_index(drop=True)\n",
    "df_min_variance[\"Date\"] = df_min_variance[\"period_open\"]\n",
    "df_min_variance[\"Date\"] = df_min_variance.apply(data_preprocessing.convert_datadate_to_datetime, axis=1)\n",
    "# df_min_variance"
   ]
  },
  {
   "cell_type": "markdown",
   "metadata": {},
   "source": [
    "### RL: Training Results"
   ]
  },
  {
   "cell_type": "code",
   "execution_count": null,
   "metadata": {},
   "outputs": [],
   "source": [
    "# load Dow 30 - in sample data (training data)\n",
    "df_djia_in_sample = data_loader_utils.load_preprocessed_djia_data()\n",
    "\n",
    "# rebalance_window is the number of months to retrain the model\n",
    "rebalance_window = data_config.REBALANCE_WINDOW\n",
    "# validation_window is the number of months to validation the model and select for trading\n",
    "validation_window = data_config.VALIDATION_WINDOW\n",
    "\n",
    "# get unique trade dates to load model results\n",
    "unique_trade_dates = data_loader_utils.get_data_between_dates(df_djia_in_sample, start=data_config.VALIDATION_START, end=data_config.TESTING_END).Date.unique()\n",
    "df_unique_trade_dates = pd.DataFrame({'Date': unique_trade_dates})\n",
    "\n",
    "# filter for when Testing Starts\n",
    "df_unique_trade_dates = df_unique_trade_dates[df_unique_trade_dates.Date >= data_config.TESTING_START]\n",
    "df_unique_trade_dates.index = df_unique_trade_dates.Date.factorize()[0]\n",
    "# df_unique_trade_dates"
   ]
  },
  {
   "cell_type": "code",
   "execution_count": null,
   "metadata": {},
   "outputs": [],
   "source": [
    "results_dir = os.path.join(paths_config.parent_dir, 'results')\n",
    "results_csv_dir = os.path.join(results_dir, 'csv')\n",
    "\n",
    "df_training_results_account_value = get_training_results_account_value(df_unique_trade_dates, results_csv_dir)"
   ]
  },
  {
   "cell_type": "code",
   "execution_count": null,
   "metadata": {},
   "outputs": [],
   "source": [
    "# get daily return as relative difference in account value\n",
    "df_training_results_account_value['daily_return'] = df_training_results_account_value.account_value.pct_change(1)\n",
    "\n",
    "# compare dates with test date\n",
    "df_training_results_account_value['Date'] = df_djia_out_of_sample['Date']\n",
    "df_training_results_account_value = df_training_results_account_value[['Date', 'account_value', 'daily_return']]\n",
    "\n",
    "df_training_results_account_value = df_training_results_account_value.reset_index(drop=True).dropna()\n",
    "# df_training_results_account_value"
   ]
  },
  {
   "cell_type": "code",
   "execution_count": null,
   "metadata": {},
   "outputs": [],
   "source": [
    "series_training_results_account_value = get_daily_return_as_series(df_training_results_account_value)  # [0:1097]\n",
    "# series_training_results_account_value"
   ]
  },
  {
   "cell_type": "markdown",
   "metadata": {},
   "source": [
    "### Plot results"
   ]
  },
  {
   "cell_type": "code",
   "execution_count": null,
   "metadata": {},
   "outputs": [],
   "source": [
    "# init the plot\n",
    "fig, ax = plt.subplots(figsize=(20, 6))\n",
    "plt.style.use(\"fivethirtyeight\")\n",
    "\n",
    "ax.set(xlabel=\"Trading Dates\",\n",
    "       ylabel=\"Cumulative Return [%]\",\n",
    "       title=\"Cumulative Return with Transaction Costs\",\n",
    "       )\n",
    "\n",
    "# init plot\n",
    "# ax.plot(df_dates.index, df_dates.zeroes, alpha=0.01)\n",
    "\n",
    "# plot actual data\n",
    "ax.plot(df_djia_out_of_sample[\"Date\"], df_djia_out_of_sample[\"daily_return\"].cumsum(), label=\"DJIA\")\n",
    "# ax.plot(df_min_variance[\"Date\"], df_min_variance[\"returns\"].cumsum(), label=\"Min-variance\")\n",
    "ax.plot(df_training_results_account_value[\"Date\"], df_training_results_account_value[\"daily_return\"].cumsum(), label=\"A2C\")\n",
    "\n",
    "# format plot\n",
    "date_form = DateFormatter(\"%Y\")\n",
    "ax.xaxis.set_major_formatter(date_form)\n",
    "ax.xaxis.set_major_locator(mdates.MonthLocator(interval=12))\n",
    "\n",
    "# ax.set_xlim([pd.Timestamp(year=2015, month=6, day=1), pd.Timestamp(year=2021, month=1, day=1)])\n",
    "plt.legend(loc='upper left')"
   ]
  }
 ],
 "metadata": {
  "interpreter": {
   "hash": "f2968bb35480f2d9f6071d86707a19f812b58e537f2858c0a44d94cb3c56cfe8"
  },
  "kernelspec": {
   "display_name": "Python 3.8.12 64-bit ('deep-rl': conda)",
   "name": "python3"
  },
  "language_info": {
   "codemirror_mode": {
    "name": "ipython",
    "version": 3
   },
   "file_extension": ".py",
   "mimetype": "text/x-python",
   "name": "python",
   "nbconvert_exporter": "python",
   "pygments_lexer": "ipython3",
   "version": "3.8.12"
  },
  "orig_nbformat": 4
 },
 "nbformat": 4,
 "nbformat_minor": 2
}
